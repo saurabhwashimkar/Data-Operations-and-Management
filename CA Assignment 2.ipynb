{
 "cells": [
  {
   "cell_type": "code",
   "execution_count": 1,
   "id": "541e8c06",
   "metadata": {},
   "outputs": [],
   "source": [
    "# Importing libraries \n",
    "from pyspark.sql import SparkSession\n",
    "from pyspark import SparkContext\n",
    "from pyspark import SparkConf"
   ]
  },
  {
   "cell_type": "code",
   "execution_count": 13,
   "id": "f6b1ac90",
   "metadata": {},
   "outputs": [],
   "source": [
    "import pandas as pd\n",
    "import time\n",
    "from datetime import datetime\n",
    "from pyspark.sql.functions import udf\n",
    "from pyspark.sql.types import StringType, ArrayType\n",
    "import matplotlib.pyplot as plt\n"
   ]
  },
  {
   "cell_type": "code",
   "execution_count": 16,
   "id": "5afa5ff0",
   "metadata": {},
   "outputs": [
    {
     "name": "stderr",
     "output_type": "stream",
     "text": [
      "Setting default log level to \"WARN\".\n",
      "To adjust logging level use sc.setLogLevel(newLevel). For SparkR, use setLogLevel(newLevel).\n",
      "23/05/18 17:55:04 WARN NativeCodeLoader: Unable to load native-hadoop library for your platform... using builtin-java classes where applicable\n"
     ]
    }
   ],
   "source": [
    "# Creating SparkSession by assigning cores\n",
    "spark = SparkSession.builder.appName(\"Data Processing\").config(\"spark.executor.instances\", 2).getOrCreate()"
   ]
  },
  {
   "cell_type": "code",
   "execution_count": 18,
   "id": "db73bcf9",
   "metadata": {},
   "outputs": [],
   "source": [
    "# Recording the start time\n",
    "start_time = time.time()  "
   ]
  },
  {
   "cell_type": "code",
   "execution_count": 19,
   "id": "43add534",
   "metadata": {},
   "outputs": [
    {
     "data": {
      "text/html": [
       "\n",
       "            <div>\n",
       "                <p><b>SparkSession - in-memory</b></p>\n",
       "                \n",
       "        <div>\n",
       "            <p><b>SparkContext</b></p>\n",
       "\n",
       "            <p><a href=\"http://saurabhs-air.station:4040\">Spark UI</a></p>\n",
       "\n",
       "            <dl>\n",
       "              <dt>Version</dt>\n",
       "                <dd><code>v3.4.0</code></dd>\n",
       "              <dt>Master</dt>\n",
       "                <dd><code>local[*]</code></dd>\n",
       "              <dt>AppName</dt>\n",
       "                <dd><code>Data Processing</code></dd>\n",
       "            </dl>\n",
       "        </div>\n",
       "        \n",
       "            </div>\n",
       "        "
      ],
      "text/plain": [
       "<pyspark.sql.session.SparkSession at 0x11d0c27d0>"
      ]
     },
     "execution_count": 19,
     "metadata": {},
     "output_type": "execute_result"
    }
   ],
   "source": [
    "spark = SparkSession.builder.master(\"local[*]\").getOrCreate()\n",
    "spark.conf.set(\"spark.sql.repl.eagerEval.enabled\", True) # Property used to format output tables better\n",
    "spark"
   ]
  },
  {
   "cell_type": "code",
   "execution_count": 20,
   "id": "3db3a5a2",
   "metadata": {},
   "outputs": [],
   "source": [
    "# Yelp API implementation\n",
    "\n",
    "def fetch_reviews(api_key, business_id, num_reviews):\n",
    "    headers = {\n",
    "        'Authorization': 'Bearer ' + api_key,\n",
    "    }\n",
    "    url = 'https://api.yelp.com/v3/businesses/' + business_id + '/reviews'\n",
    "    params = {\n",
    "        'limit': num_reviews,\n",
    "    }\n",
    "    response = requests.get(url, headers=headers, params=params)\n",
    "    return response.json()"
   ]
  },
  {
   "cell_type": "code",
   "execution_count": 21,
   "id": "54fffcec",
   "metadata": {},
   "outputs": [
    {
     "name": "stdout",
     "output_type": "stream",
     "text": [
      "Collecting yelpapi\n",
      "  Downloading yelpapi-2.5.0-py3-none-any.whl (7.4 kB)\n",
      "Collecting requests (from yelpapi)\n",
      "  Downloading requests-2.30.0-py3-none-any.whl (62 kB)\n",
      "\u001b[2K     \u001b[90m━━━━━━━━━━━━━━━━━━━━━━━━━━━━━━━━━━━━━━━━\u001b[0m \u001b[32m62.5/62.5 kB\u001b[0m \u001b[31m3.4 MB/s\u001b[0m eta \u001b[36m0:00:00\u001b[0m\n",
      "\u001b[?25hCollecting charset-normalizer<4,>=2 (from requests->yelpapi)\n",
      "  Downloading charset_normalizer-3.1.0-cp311-cp311-macosx_11_0_arm64.whl (121 kB)\n",
      "\u001b[2K     \u001b[90m━━━━━━━━━━━━━━━━━━━━━━━━━━━━━━━━━━━━━━━\u001b[0m \u001b[32m121.7/121.7 kB\u001b[0m \u001b[31m8.3 MB/s\u001b[0m eta \u001b[36m0:00:00\u001b[0m\n",
      "\u001b[?25hRequirement already satisfied: idna<4,>=2.5 in /Users/saurabhwashimkar/.local/share/virtualenvs/spark-Ls10g49i/lib/python3.11/site-packages (from requests->yelpapi) (3.4)\n",
      "Collecting urllib3<3,>=1.21.1 (from requests->yelpapi)\n",
      "  Downloading urllib3-2.0.2-py3-none-any.whl (123 kB)\n",
      "\u001b[2K     \u001b[90m━━━━━━━━━━━━━━━━━━━━━━━━━━━━━━━━━━━━━━\u001b[0m \u001b[32m123.2/123.2 kB\u001b[0m \u001b[31m18.1 MB/s\u001b[0m eta \u001b[36m0:00:00\u001b[0m\n",
      "\u001b[?25hCollecting certifi>=2017.4.17 (from requests->yelpapi)\n",
      "  Downloading certifi-2023.5.7-py3-none-any.whl (156 kB)\n",
      "\u001b[2K     \u001b[90m━━━━━━━━━━━━━━━━━━━━━━━━━━━━━━━━━━━━━━\u001b[0m \u001b[32m157.0/157.0 kB\u001b[0m \u001b[31m19.0 MB/s\u001b[0m eta \u001b[36m0:00:00\u001b[0m\n",
      "\u001b[?25hInstalling collected packages: urllib3, charset-normalizer, certifi, requests, yelpapi\n",
      "Successfully installed certifi-2023.5.7 charset-normalizer-3.1.0 requests-2.30.0 urllib3-2.0.2 yelpapi-2.5.0\n",
      "Note: you may need to restart the kernel to use updated packages.\n"
     ]
    }
   ],
   "source": [
    "pip install yelpapi"
   ]
  },
  {
   "cell_type": "code",
   "execution_count": 22,
   "id": "e397a761",
   "metadata": {},
   "outputs": [],
   "source": [
    "from pyspark.sql import SparkSession\n",
    "from yelpapi import YelpAPI"
   ]
  },
  {
   "cell_type": "code",
   "execution_count": 23,
   "id": "e2479f69",
   "metadata": {},
   "outputs": [],
   "source": [
    "# Initializing Yelp API client\n",
    "api_key = 'J1eg6rIR_J_D6QlSLMDa23LIl-AUrnDMC06cjfxJd7x56_Zq5Nof3-toeQmc2QCDLCgpM7P6ofcTzrHyAfFrNFUJE0doTegUIof6k5UkeT8u_ubkdztNXwfZmQJYZHYx'\n",
    "yelp_api = YelpAPI(api_key)"
   ]
  },
  {
   "cell_type": "code",
   "execution_count": 24,
   "id": "a8341cae",
   "metadata": {},
   "outputs": [],
   "source": [
    "# Defining search parameters\n",
    "params = {\n",
    "    'location': 'Ireland',\n",
    "    'term': 'restaurants',\n",
    "    'limit': 50\n",
    "}\n"
   ]
  },
  {
   "cell_type": "code",
   "execution_count": 25,
   "id": "9a8b4fba",
   "metadata": {},
   "outputs": [],
   "source": [
    "# Retrieving search results\n",
    "response = yelp_api.search_query(**params)"
   ]
  },
  {
   "cell_type": "code",
   "execution_count": 45,
   "id": "3b8ea6cf",
   "metadata": {},
   "outputs": [],
   "source": [
    "# Extracting relevant business data and Creating Spark DataFrame and loading the extracted data into it \n",
    "businesses = response['businesses']\n",
    "business_data = [(b['name'], b['rating'], b['review_count'], b.get('price', ''), \n",
    "                  ','.join([c['title'] for c in b.get('categories', [])]),\n",
    "                  ','.join([f\"{k}: {v}\" for k, v in b.get('attributes', {}).items()])) for b in businesses]\n",
    "spark = SparkSession.builder.appName('Yelp Reviews').getOrCreate()\n",
    "df = spark.createDataFrame(business_data, ['name', 'rating', 'review_count', 'price', 'categories', 'attributes'])\n"
   ]
  },
  {
   "cell_type": "code",
   "execution_count": 46,
   "id": "a184af74",
   "metadata": {},
   "outputs": [
    {
     "name": "stdout",
     "output_type": "stream",
     "text": [
      "+--------------------+------+------------+-----+--------------------+----------+\n",
      "|                name|rating|review_count|price|          categories|attributes|\n",
      "+--------------------+------+------------+-----+--------------------+----------+\n",
      "|     The Boxty House|   4.5|         992|   €€|               Irish|          |\n",
      "|The Old Mill Rest...|   4.5|         148|   €€|   Seafood,Wine Bars|          |\n",
      "|       The Pig's Ear|   4.5|         225|  €€€|Bistros,Modern Eu...|          |\n",
      "|       Darkey Kellys|   4.5|         155|   €€|          Pubs,Irish|          |\n",
      "|             P Mac's|   4.5|         181|   €€|     Pubs,Gastropubs|          |\n",
      "|            Sheehans|   4.5|         101|   €€|Pubs,Irish,Irish Pub|          |\n",
      "|                Klaw|   4.5|         172|   €€|             Seafood|          |\n",
      "|         F.X.Buckley|   4.5|          87|  €€€|   Steakhouses,Irish|          |\n",
      "|     The Brazen Head|   4.0|         766|   €€|Pubs,Irish,Music ...|          |\n",
      "|   Elephant & Castle|   4.0|         353|   €€|American (Traditi...|          |\n",
      "|The Quays Irish R...|   4.0|         185|   €€|               Irish|          |\n",
      "|        IL Vicoletto|   4.5|          98|  €€€|             Italian|          |\n",
      "|       Bull & Castle|   4.0|         265|  €€€|Pubs,Sports Bars,...|          |\n",
      "|         Platform 61|   4.5|          32|   €€|Tapas/Small Plate...|          |\n",
      "|        Featherblade|   4.5|         106|   €€|         Steakhouses|          |\n",
      "|   The Woollen Mills|   4.0|         120|   €€|               Irish|          |\n",
      "|   The Winding Stair|   4.0|         213|  €€€|Irish,Modern Euro...|          |\n",
      "|    Xian Street Food|   5.0|          30|     |Street Vendors,Ch...|          |\n",
      "|     Brother Hubbard|   4.5|         332|   €€|Middle Eastern,Br...|          |\n",
      "| The Vintage Kitchen|   4.5|          85|  €€€|Irish,Modern Euro...|          |\n",
      "+--------------------+------+------------+-----+--------------------+----------+\n",
      "only showing top 20 rows\n",
      "\n"
     ]
    }
   ],
   "source": [
    "# Perform further analysis on DataFrame\n",
    "df.show()"
   ]
  },
  {
   "cell_type": "code",
   "execution_count": 27,
   "id": "a5059bb8",
   "metadata": {},
   "outputs": [
    {
     "name": "stderr",
     "output_type": "stream",
     "text": [
      "23/05/18 18:02:05 WARN package: Truncated the string representation of a plan since it was too large. This behavior can be adjusted by setting 'spark.sql.debug.maxToStringFields'.\n",
      "                                                                                \r"
     ]
    },
    {
     "data": {
      "text/html": [
       "<table border='1'>\n",
       "<tr><th>summary</th><th>name</th><th>rating</th><th>review_count</th><th>price</th><th>categories</th><th>attributes</th></tr>\n",
       "<tr><td>count</td><td>50</td><td>50</td><td>50</td><td>50</td><td>50</td><td>50</td></tr>\n",
       "<tr><td>mean</td><td>null</td><td>4.31</td><td>188.06</td><td>null</td><td>null</td><td>null</td></tr>\n",
       "<tr><td>stddev</td><td>null</td><td>0.2837432009434459</td><td>189.34844351413213</td><td>null</td><td>null</td><td>null</td></tr>\n",
       "<tr><td>min</td><td>Bar Italia ristor...</td><td>3.5</td><td>7</td><td></td><td>American (New),Ba...</td><td></td></tr>\n",
       "<tr><td>max</td><td>Zaytoon</td><td>5.0</td><td>992</td><td>€€€</td><td>Wine Bars,Tapas/S...</td><td></td></tr>\n",
       "</table>\n"
      ],
      "text/plain": [
       "+-------+--------------------+------------------+------------------+-----+--------------------+----------+\n",
       "|summary|                name|            rating|      review_count|price|          categories|attributes|\n",
       "+-------+--------------------+------------------+------------------+-----+--------------------+----------+\n",
       "|  count|                  50|                50|                50|   50|                  50|        50|\n",
       "|   mean|                null|              4.31|            188.06| null|                null|      null|\n",
       "| stddev|                null|0.2837432009434459|189.34844351413213| null|                null|      null|\n",
       "|    min|Bar Italia ristor...|               3.5|                 7|     |American (New),Ba...|          |\n",
       "|    max|             Zaytoon|               5.0|               992|  €€€|Wine Bars,Tapas/S...|          |\n",
       "+-------+--------------------+------------------+------------------+-----+--------------------+----------+"
      ]
     },
     "execution_count": 27,
     "metadata": {},
     "output_type": "execute_result"
    }
   ],
   "source": [
    "df.describe()"
   ]
  },
  {
   "cell_type": "code",
   "execution_count": 28,
   "id": "26cfa2b1",
   "metadata": {},
   "outputs": [
    {
     "name": "stderr",
     "output_type": "stream",
     "text": [
      "[Stage 8:>                                                          (0 + 8) / 8]\r"
     ]
    },
    {
     "name": "stdout",
     "output_type": "stream",
     "text": [
      "+--------------------+-----------------+\n",
      "|          categories|avg(review_count)|\n",
      "+--------------------+-----------------+\n",
      "|               Irish|432.3333333333333|\n",
      "|          Pubs,Irish|            155.0|\n",
      "|Pubs,Irish,Irish Pub|            101.0|\n",
      "|     Pubs,Gastropubs|            375.5|\n",
      "|Bistros,Modern Eu...|            225.0|\n",
      "|   Seafood,Wine Bars|            148.0|\n",
      "|   Steakhouses,Irish|             87.0|\n",
      "|             Italian|             52.5|\n",
      "|American (Traditi...|            353.0|\n",
      "|Pubs,Irish,Music ...|            569.5|\n",
      "|             Seafood|            172.0|\n",
      "|Street Vendors,Ch...|             30.0|\n",
      "|Pubs,Sports Bars,...|            265.0|\n",
      "|Tapas/Small Plate...|             32.0|\n",
      "|         Steakhouses|            106.0|\n",
      "|Irish,Modern Euro...|            149.0|\n",
      "|                Thai|            126.0|\n",
      "|Middle Eastern,Br...|            332.0|\n",
      "| Seafood,Steakhouses|             31.0|\n",
      "|Bakeries,Coffee &...|            262.0|\n",
      "+--------------------+-----------------+\n",
      "only showing top 20 rows\n",
      "\n"
     ]
    },
    {
     "name": "stderr",
     "output_type": "stream",
     "text": [
      "                                                                                \r"
     ]
    }
   ],
   "source": [
    "grouped_data = df.groupBy('categories').agg({'review_count': 'avg'})\n",
    "grouped_data.show()"
   ]
  },
  {
   "cell_type": "code",
   "execution_count": 29,
   "id": "d5514fe1",
   "metadata": {},
   "outputs": [
    {
     "name": "stderr",
     "output_type": "stream",
     "text": [
      "[Stage 11:==============>                                           (2 + 6) / 8]\r"
     ]
    },
    {
     "name": "stdout",
     "output_type": "stream",
     "text": [
      "+------+------------------+\n",
      "|rating| avg(review_count)|\n",
      "+------+------------------+\n",
      "|   4.5|158.26666666666668|\n",
      "|   4.0|241.38888888888889|\n",
      "|   5.0|              30.0|\n",
      "|   3.5|             280.0|\n",
      "+------+------------------+\n",
      "\n"
     ]
    },
    {
     "name": "stderr",
     "output_type": "stream",
     "text": [
      "                                                                                \r"
     ]
    }
   ],
   "source": [
    "grouped_data = df.groupBy('rating').agg({'review_count': 'avg'})\n",
    "grouped_data.show()"
   ]
  },
  {
   "cell_type": "code",
   "execution_count": 44,
   "id": "8acedade",
   "metadata": {},
   "outputs": [
    {
     "data": {
      "image/png": "[encoded data removed]",
      "text/plain": [
       "<Figure size 1500x500 with 1 Axes>"
      ]
     },
     "metadata": {},
     "output_type": "display_data"
    }
   ],
   "source": [
    "labels = [row['name'] for row in df.groupBy(\"name\").count().orderBy('count', ascending=False).take(10)]\n",
    "values = [row['review_count'] for row in df.groupBy(\"review_count\").count().orderBy('count', ascending=True).take(10)]\n",
    "\n",
    "\n",
    "plt.figure(figsize=(15, 5))\n",
    "plt.bar(labels, values)\n",
    "plt.title('Top 10 Businesses by Review')\n",
    "plt.xlabel('Business')\n",
    "plt.ylabel('Count')\n",
    "plt.show()"
   ]
  },
  {
   "cell_type": "code",
   "execution_count": 47,
   "id": "fa059835",
   "metadata": {},
   "outputs": [
    {
     "name": "stdout",
     "output_type": "stream",
     "text": [
      "Total time taken: 1151.2539989948273 seconds\n"
     ]
    }
   ],
   "source": [
    "#Measure the processing time\n",
    "end_time = time.time()\n",
    "total_time = end_time - start_time\n",
    "print(f\"Total time taken: {total_time} seconds\")"
   ]
  },
  {
   "cell_type": "code",
   "execution_count": null,
   "id": "0a12acf1",
   "metadata": {},
   "outputs": [],
   "source": []
  }
 ],
 "metadata": {
  "kernelspec": {
   "display_name": "Python 3 (ipykernel)",
   "language": "python",
   "name": "python3"
  },
  "language_info": {
   "codemirror_mode": {
    "name": "ipython",
    "version": 3
   },
   "file_extension": ".py",
   "mimetype": "text/x-python",
   "name": "python",
   "nbconvert_exporter": "python",
   "pygments_lexer": "ipython3",
   "version": "3.11.3"
  }
 },
 "nbformat": 4,
 "nbformat_minor": 5
}
